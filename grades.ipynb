{
 "cells": [
  {
   "cell_type": "markdown",
   "metadata": {},
   "source": [
    "## Bucky Brooks  \n",
    "http://www.nfl.com/news/author?id=09000d5d80f97bfd  \n",
    "Scrape all his articles above and look for draft grades"
   ]
  },
  {
   "cell_type": "code",
   "execution_count": 16,
   "metadata": {
    "collapsed": true
   },
   "outputs": [],
   "source": [
    "from bs4 import BeautifulSoup\n",
    "import pandas as pd\n",
    "import urllib\n",
    "from collections import defaultdict\n",
    "import datetime\n",
    "import string"
   ]
  },
  {
   "cell_type": "code",
   "execution_count": 2,
   "metadata": {
    "collapsed": true
   },
   "outputs": [],
   "source": [
    "writer_id=\"09000d5d80f97bfd\"\n",
    "base_url = 'http://www.nfl.com/news/author?id='+writer_id\n",
    "html_week = urllib.urlopen(base_url).read()\n",
    "soup = BeautifulSoup(html_week, 'html.parser')"
   ]
  },
  {
   "cell_type": "code",
   "execution_count": 3,
   "metadata": {
    "collapsed": false
   },
   "outputs": [],
   "source": [
    "articles=soup.select('div[class=news-author-blurb-container]')"
   ]
  },
  {
   "cell_type": "code",
   "execution_count": 9,
   "metadata": {
    "collapsed": false
   },
   "outputs": [],
   "source": [
    "def gradesArticles(writer_id):\n",
    "    writer_id=\"09000d5d80f97bfd\"\n",
    "    base_url = 'http://www.nfl.com/news/author?id='+writer_id\n",
    "    html_week = urllib.urlopen(base_url).read()\n",
    "    soup = BeautifulSoup(html_week, 'html.parser')\n",
    "    articles=soup.select('div[class=news-author-blurb-container]')\n",
    "    gradeArticles=[]\n",
    "    for article in articles:\n",
    "        a=article.select(\"a\")[0]\n",
    "        title=a.text\n",
    "        url=a.get(\"href\")\n",
    "        if 'draft grades' in title:\n",
    "            gradeArticles.append({'url': url, 'title':title})\n",
    "    return gradeArticles\n",
    "grades=pd.DataFrame(gradesArticles(articles))"
   ]
  },
  {
   "cell_type": "code",
   "execution_count": 10,
   "metadata": {
    "collapsed": false
   },
   "outputs": [
    {
     "data": {
      "text/html": [
       "<div>\n",
       "<table border=\"1\" class=\"dataframe\">\n",
       "  <thead>\n",
       "    <tr style=\"text-align: right;\">\n",
       "      <th></th>\n",
       "      <th>title</th>\n",
       "      <th>url</th>\n",
       "    </tr>\n",
       "  </thead>\n",
       "  <tbody>\n",
       "    <tr>\n",
       "      <th>39</th>\n",
       "      <td>NFC North draft grades Plenty of picks poor pr...</td>\n",
       "      <td>/draft/story/09000d5d817615c8/article/nfc-nort...</td>\n",
       "    </tr>\n",
       "    <tr>\n",
       "      <th>40</th>\n",
       "      <td>AFC North draft grades Browns drop behind prud...</td>\n",
       "      <td>/draft/story/09000d5d81760c9e/article/afc-nort...</td>\n",
       "    </tr>\n",
       "    <tr>\n",
       "      <th>41</th>\n",
       "      <td>AFC South draft grades Colts have found hidden...</td>\n",
       "      <td>/draft/story/09000d5d81759716/article/afc-sout...</td>\n",
       "    </tr>\n",
       "    <tr>\n",
       "      <th>42</th>\n",
       "      <td>NFC East draft grades Redskins have little to ...</td>\n",
       "      <td>/draft/story/09000d5d81753c34/article/nfc-east...</td>\n",
       "    </tr>\n",
       "    <tr>\n",
       "      <th>43</th>\n",
       "      <td>AFC East draft grades Besides Gholston Jets ha...</td>\n",
       "      <td>/draft/story/09000d5d81753bf7/article/afc-east...</td>\n",
       "    </tr>\n",
       "  </tbody>\n",
       "</table>\n",
       "</div>"
      ],
      "text/plain": [
       "                                                title  \\\n",
       "39  NFC North draft grades Plenty of picks poor pr...   \n",
       "40  AFC North draft grades Browns drop behind prud...   \n",
       "41  AFC South draft grades Colts have found hidden...   \n",
       "42  NFC East draft grades Redskins have little to ...   \n",
       "43  AFC East draft grades Besides Gholston Jets ha...   \n",
       "\n",
       "                                                  url  \n",
       "39  /draft/story/09000d5d817615c8/article/nfc-nort...  \n",
       "40  /draft/story/09000d5d81760c9e/article/afc-nort...  \n",
       "41  /draft/story/09000d5d81759716/article/afc-sout...  \n",
       "42  /draft/story/09000d5d81753c34/article/nfc-east...  \n",
       "43  /draft/story/09000d5d81753bf7/article/afc-east...  "
      ]
     },
     "execution_count": 10,
     "metadata": {},
     "output_type": "execute_result"
    }
   ],
   "source": [
    "grades.tail()"
   ]
  },
  {
   "cell_type": "markdown",
   "metadata": {},
   "source": [
    "## Team Grades"
   ]
  },
  {
   "cell_type": "code",
   "execution_count": 12,
   "metadata": {
    "collapsed": false
   },
   "outputs": [],
   "source": [
    "def procLinks(paragraph):\n",
    "    #can also return quote in entity graph form\n",
    "    team=''\n",
    "    players=[]\n",
    "    for link in paragraph.select('a'):\n",
    "        if 'team' in str(link):\n",
    "            if link.text[0].isupper():\n",
    "                team=link.text\n",
    "        elif 'player' in str(link):\n",
    "            players.append({'url': link.get('href'), 'name': link.text})\n",
    "    return {'team': team, 'players': players}\n",
    "    \n",
    "    \n",
    "def procBold(paragraph):\n",
    "    grade=None\n",
    "    for b in paragraph.select('b'):\n",
    "        if 'GRADE: ' in b.text:\n",
    "            grade=b.text.split('GRADE: ')[1]\n",
    "    return {'grade': grade}\n",
    "    \n",
    "def getMeta(paragraph):\n",
    "    linkData=procLinks(paragraph)\n",
    "    boldData=procBold(paragraph)\n",
    "    meta=dict(linkData.items()+boldData.items())\n",
    "    return meta"
   ]
  },
  {
   "cell_type": "code",
   "execution_count": 13,
   "metadata": {
    "collapsed": false
   },
   "outputs": [],
   "source": [
    "rows=[]\n",
    "for url in grades['url']:\n",
    "    html = urllib.urlopen('http://www.nfl.com/'+url).read()\n",
    "    soup=BeautifulSoup(html, 'html.parser')\n",
    "    rawTime=soup.find(id='article-time').get('title')[0:10]\n",
    "    date=datetime.datetime.strptime(rawTime, '%Y-%m-%d')\n",
    "    for paragraph in soup.select('p'):\n",
    "        if 'GRADE: ' in str(paragraph):\n",
    "            row = getMeta(paragraph)\n",
    "            row['published']=date\n",
    "            rows.append(row)\n",
    "bucky=pd.DataFrame(rows)"
   ]
  },
  {
   "cell_type": "code",
   "execution_count": 14,
   "metadata": {
    "collapsed": false
   },
   "outputs": [],
   "source": [
    "bucky=bucky.dropna(subset=['team', 'grade'])"
   ]
  },
  {
   "cell_type": "code",
   "execution_count": 36,
   "metadata": {
    "collapsed": false
   },
   "outputs": [],
   "source": [
    "gradeVals={'A': 4., 'B': 3., 'C': 2., 'D': 1., 'F': 0.}\n",
    "def gradeToNum(grade):\n",
    "    offset=0\n",
    "    if grade[-1]=='+':\n",
    "        offset=.33\n",
    "    elif grade[-1]=='-':\n",
    "        offset=-.33\n",
    "    return offset+gradeVals[grade[0]]\n",
    "bucky['gradeVal']=bucky['grade'].apply(gradeToNum)"
   ]
  },
  {
   "cell_type": "code",
   "execution_count": 85,
   "metadata": {
    "collapsed": false
   },
   "outputs": [],
   "source": [
    "bucky['year']=bucky['published'].dt.year"
   ]
  },
  {
   "cell_type": "markdown",
   "metadata": {},
   "source": [
    "iterate through players and see if still playing or starting and then team record"
   ]
  },
  {
   "cell_type": "code",
   "execution_count": 98,
   "metadata": {
    "collapsed": false
   },
   "outputs": [
    {
     "data": {
      "text/plain": [
       "3.0551960784313721"
      ]
     },
     "execution_count": 98,
     "metadata": {},
     "output_type": "execute_result"
    }
   ],
   "source": [
    "bucky['gradeVals'].mean()"
   ]
  },
  {
   "cell_type": "code",
   "execution_count": 129,
   "metadata": {
    "collapsed": false
   },
   "outputs": [],
   "source": [
    "time_series=[]\n",
    "for idx, t in bucky.groupby('team', axis=0):\n",
    "    sum_=0\n",
    "    for year in [2015,2014,2013]:\n",
    "        row=t[t['published'].dt.year==year]\n",
    "        gradVal=0\n",
    "        if len(row)==0:\n",
    "            gradeVal=3.05\n",
    "        else:\n",
    "            gradeVal=row.iloc[0]['gradeVal']\n",
    "        score=.8**(-2013+year)*gradeVal\n",
    "        sum_+=score\n",
    "    \n",
    "    time_series.append((t['team'].iloc[0], sum_, len(t)))"
   ]
  },
  {
   "cell_type": "code",
   "execution_count": 130,
   "metadata": {
    "collapsed": false
   },
   "outputs": [
    {
     "name": "stderr",
     "output_type": "stream",
     "text": [
      "C:\\Users\\Roger\\Anaconda2\\envs\\py2\\lib\\site-packages\\ipykernel\\__main__.py:2: FutureWarning: sort(columns=....) is deprecated, use sort_values(by=.....)\n",
      "  from ipykernel import kernelapp as app\n"
     ]
    },
    {
     "data": {
      "text/html": [
       "<div>\n",
       "<table border=\"1\" class=\"dataframe\">\n",
       "  <thead>\n",
       "    <tr style=\"text-align: right;\">\n",
       "      <th></th>\n",
       "      <th>0</th>\n",
       "      <th>1</th>\n",
       "      <th>2</th>\n",
       "    </tr>\n",
       "  </thead>\n",
       "  <tbody>\n",
       "    <tr>\n",
       "      <th>35</th>\n",
       "      <td>Vikings</td>\n",
       "      <td>9.1252</td>\n",
       "      <td>4</td>\n",
       "    </tr>\n",
       "    <tr>\n",
       "      <th>26</th>\n",
       "      <td>Rams</td>\n",
       "      <td>8.4340</td>\n",
       "      <td>3</td>\n",
       "    </tr>\n",
       "    <tr>\n",
       "      <th>19</th>\n",
       "      <td>Jaguars</td>\n",
       "      <td>8.3348</td>\n",
       "      <td>3</td>\n",
       "    </tr>\n",
       "    <tr>\n",
       "      <th>29</th>\n",
       "      <td>SAN FRANCISCO 49ERS:</td>\n",
       "      <td>8.2020</td>\n",
       "      <td>1</td>\n",
       "    </tr>\n",
       "    <tr>\n",
       "      <th>5</th>\n",
       "      <td>Browns</td>\n",
       "      <td>8.1172</td>\n",
       "      <td>3</td>\n",
       "    </tr>\n",
       "    <tr>\n",
       "      <th>6</th>\n",
       "      <td>Buccaneers</td>\n",
       "      <td>8.1172</td>\n",
       "      <td>3</td>\n",
       "    </tr>\n",
       "    <tr>\n",
       "      <th>16</th>\n",
       "      <td>Falcons</td>\n",
       "      <td>8.0100</td>\n",
       "      <td>3</td>\n",
       "    </tr>\n",
       "    <tr>\n",
       "      <th>25</th>\n",
       "      <td>Raiders</td>\n",
       "      <td>7.9588</td>\n",
       "      <td>2</td>\n",
       "    </tr>\n",
       "    <tr>\n",
       "      <th>18</th>\n",
       "      <td>HOUSTON TEXANS:</td>\n",
       "      <td>7.9380</td>\n",
       "      <td>1</td>\n",
       "    </tr>\n",
       "    <tr>\n",
       "      <th>20</th>\n",
       "      <td>Jets</td>\n",
       "      <td>7.8940</td>\n",
       "      <td>4</td>\n",
       "    </tr>\n",
       "    <tr>\n",
       "      <th>2</th>\n",
       "      <td>Bengals</td>\n",
       "      <td>7.8452</td>\n",
       "      <td>3</td>\n",
       "    </tr>\n",
       "    <tr>\n",
       "      <th>17</th>\n",
       "      <td>Giants</td>\n",
       "      <td>7.7988</td>\n",
       "      <td>3</td>\n",
       "    </tr>\n",
       "    <tr>\n",
       "      <th>11</th>\n",
       "      <td>Cowboys</td>\n",
       "      <td>7.7460</td>\n",
       "      <td>3</td>\n",
       "    </tr>\n",
       "    <tr>\n",
       "      <th>30</th>\n",
       "      <td>Saints</td>\n",
       "      <td>7.6340</td>\n",
       "      <td>3</td>\n",
       "    </tr>\n",
       "    <tr>\n",
       "      <th>0</th>\n",
       "      <td></td>\n",
       "      <td>7.6212</td>\n",
       "      <td>5</td>\n",
       "    </tr>\n",
       "    <tr>\n",
       "      <th>22</th>\n",
       "      <td>Packers</td>\n",
       "      <td>7.5840</td>\n",
       "      <td>4</td>\n",
       "    </tr>\n",
       "    <tr>\n",
       "      <th>33</th>\n",
       "      <td>Texans</td>\n",
       "      <td>7.4420</td>\n",
       "      <td>1</td>\n",
       "    </tr>\n",
       "    <tr>\n",
       "      <th>7</th>\n",
       "      <td>Cardinals</td>\n",
       "      <td>7.4420</td>\n",
       "      <td>1</td>\n",
       "    </tr>\n",
       "    <tr>\n",
       "      <th>12</th>\n",
       "      <td>DENVER BRONCOS:</td>\n",
       "      <td>7.4020</td>\n",
       "      <td>1</td>\n",
       "    </tr>\n",
       "    <tr>\n",
       "      <th>8</th>\n",
       "      <td>Chargers</td>\n",
       "      <td>7.3700</td>\n",
       "      <td>2</td>\n",
       "    </tr>\n",
       "    <tr>\n",
       "      <th>15</th>\n",
       "      <td>Eagles</td>\n",
       "      <td>7.3700</td>\n",
       "      <td>3</td>\n",
       "    </tr>\n",
       "    <tr>\n",
       "      <th>27</th>\n",
       "      <td>Ravens</td>\n",
       "      <td>7.3700</td>\n",
       "      <td>3</td>\n",
       "    </tr>\n",
       "    <tr>\n",
       "      <th>21</th>\n",
       "      <td>Lions</td>\n",
       "      <td>7.3600</td>\n",
       "      <td>3</td>\n",
       "    </tr>\n",
       "    <tr>\n",
       "      <th>14</th>\n",
       "      <td>Dolphins</td>\n",
       "      <td>7.2672</td>\n",
       "      <td>4</td>\n",
       "    </tr>\n",
       "    <tr>\n",
       "      <th>10</th>\n",
       "      <td>Colts</td>\n",
       "      <td>7.2100</td>\n",
       "      <td>4</td>\n",
       "    </tr>\n",
       "    <tr>\n",
       "      <th>32</th>\n",
       "      <td>Steelers</td>\n",
       "      <td>7.2052</td>\n",
       "      <td>3</td>\n",
       "    </tr>\n",
       "    <tr>\n",
       "      <th>4</th>\n",
       "      <td>Broncos</td>\n",
       "      <td>7.1988</td>\n",
       "      <td>1</td>\n",
       "    </tr>\n",
       "    <tr>\n",
       "      <th>13</th>\n",
       "      <td>DETROIT LIONS:</td>\n",
       "      <td>7.1380</td>\n",
       "      <td>1</td>\n",
       "    </tr>\n",
       "    <tr>\n",
       "      <th>3</th>\n",
       "      <td>Bills</td>\n",
       "      <td>7.0100</td>\n",
       "      <td>4</td>\n",
       "    </tr>\n",
       "    <tr>\n",
       "      <th>28</th>\n",
       "      <td>Redskins</td>\n",
       "      <td>6.8340</td>\n",
       "      <td>3</td>\n",
       "    </tr>\n",
       "    <tr>\n",
       "      <th>9</th>\n",
       "      <td>Chiefs</td>\n",
       "      <td>6.8340</td>\n",
       "      <td>3</td>\n",
       "    </tr>\n",
       "    <tr>\n",
       "      <th>1</th>\n",
       "      <td>Bears</td>\n",
       "      <td>6.7488</td>\n",
       "      <td>4</td>\n",
       "    </tr>\n",
       "    <tr>\n",
       "      <th>34</th>\n",
       "      <td>Titans</td>\n",
       "      <td>6.3588</td>\n",
       "      <td>3</td>\n",
       "    </tr>\n",
       "    <tr>\n",
       "      <th>31</th>\n",
       "      <td>Seahawks</td>\n",
       "      <td>6.1412</td>\n",
       "      <td>3</td>\n",
       "    </tr>\n",
       "    <tr>\n",
       "      <th>23</th>\n",
       "      <td>Panthers</td>\n",
       "      <td>5.9828</td>\n",
       "      <td>3</td>\n",
       "    </tr>\n",
       "    <tr>\n",
       "      <th>24</th>\n",
       "      <td>Patriots</td>\n",
       "      <td>5.9572</td>\n",
       "      <td>4</td>\n",
       "    </tr>\n",
       "  </tbody>\n",
       "</table>\n",
       "</div>"
      ],
      "text/plain": [
       "                       0       1  2\n",
       "35               Vikings  9.1252  4\n",
       "26                  Rams  8.4340  3\n",
       "19               Jaguars  8.3348  3\n",
       "29  SAN FRANCISCO 49ERS:  8.2020  1\n",
       "5                 Browns  8.1172  3\n",
       "6             Buccaneers  8.1172  3\n",
       "16               Falcons  8.0100  3\n",
       "25               Raiders  7.9588  2\n",
       "18       HOUSTON TEXANS:  7.9380  1\n",
       "20                  Jets  7.8940  4\n",
       "2                Bengals  7.8452  3\n",
       "17                Giants  7.7988  3\n",
       "11               Cowboys  7.7460  3\n",
       "30                Saints  7.6340  3\n",
       "0                         7.6212  5\n",
       "22               Packers  7.5840  4\n",
       "33                Texans  7.4420  1\n",
       "7              Cardinals  7.4420  1\n",
       "12       DENVER BRONCOS:  7.4020  1\n",
       "8               Chargers  7.3700  2\n",
       "15                Eagles  7.3700  3\n",
       "27                Ravens  7.3700  3\n",
       "21                 Lions  7.3600  3\n",
       "14              Dolphins  7.2672  4\n",
       "10                 Colts  7.2100  4\n",
       "32              Steelers  7.2052  3\n",
       "4                Broncos  7.1988  1\n",
       "13        DETROIT LIONS:  7.1380  1\n",
       "3                  Bills  7.0100  4\n",
       "28              Redskins  6.8340  3\n",
       "9                 Chiefs  6.8340  3\n",
       "1                  Bears  6.7488  4\n",
       "34                Titans  6.3588  3\n",
       "31              Seahawks  6.1412  3\n",
       "23              Panthers  5.9828  3\n",
       "24              Patriots  5.9572  4"
      ]
     },
     "execution_count": 130,
     "metadata": {},
     "output_type": "execute_result"
    }
   ],
   "source": [
    "teamGrades=pd.DataFrame(time_series)\n",
    "teamGrades.sort(1, ascending=False)"
   ]
  },
  {
   "cell_type": "markdown",
   "metadata": {},
   "source": [
    "Better teams are ranked worse. panthers had strong draft classes. Same with patriots. At least moreso than chargers and especially browns"
   ]
  },
  {
   "cell_type": "markdown",
   "metadata": {
    "collapsed": true
   },
   "source": [
    "for team grades need to compare this discounted score to records. Plot scatter plot of win percent and score. No coaching built in so perhaps poor correlation corresponds to coach skill or other factors"
   ]
  },
  {
   "cell_type": "markdown",
   "metadata": {},
   "source": [
    "Ironically, http://www.nfl.com/news/story/0ap3000000664439/article/seahawks-steelers-panthers-headline-10-most-talented-teams"
   ]
  }
 ],
 "metadata": {
  "kernelspec": {
   "display_name": "Python 2",
   "language": "python",
   "name": "python2"
  },
  "language_info": {
   "codemirror_mode": {
    "name": "ipython",
    "version": 2
   },
   "file_extension": ".py",
   "mimetype": "text/x-python",
   "name": "python",
   "nbconvert_exporter": "python",
   "pygments_lexer": "ipython2",
   "version": "2.7.11"
  }
 },
 "nbformat": 4,
 "nbformat_minor": 0
}
